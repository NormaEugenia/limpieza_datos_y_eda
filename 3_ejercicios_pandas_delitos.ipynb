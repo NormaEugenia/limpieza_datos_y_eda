{
  "cells": [
    {
      "cell_type": "markdown",
      "metadata": {
        "id": "orYqaWTf3gQr"
      },
      "source": [
        "# Análisis exploratorio de incidencia delictiva en México"
      ]
    },
    {
      "cell_type": "code",
      "execution_count": null,
      "metadata": {
        "id": "Tr-JCMbM3gQv"
      },
      "outputs": [],
      "source": [
        "import pandas as pd\n",
        "import matplotlib.pyplot as plt\n",
        "import numpy as np"
      ]
    },
    {
      "cell_type": "code",
      "execution_count": null,
      "metadata": {
        "id": "ncHttHBM3gQw"
      },
      "outputs": [],
      "source": [
        "df = pd.read_csv('data/delitos.csv')"
      ]
    },
    {
      "cell_type": "markdown",
      "metadata": {
        "id": "DbYb8ZAF3gQx"
      },
      "source": [
        "#### Ejercicio 1: Elige 3 estados de la república y grafica una serie de tiempo de la frecuencia abosluta de homicidios dolosos de enero 2015 a julio 2019 en estas tres entidades"
      ]
    },
    {
      "cell_type": "code",
      "execution_count": null,
      "metadata": {
        "id": "rko0EBlp3gQx"
      },
      "outputs": [],
      "source": [
        "estados = ['Jalisco', 'CDMX', 'Chihuahua']\n",
        "df_filtrado = df[df['Entidad'].isin(estados)]\n",
        "df_filtrado['Fecha'] = pd.to_datetime(df_filtrado['Año'].astype(str) + '-' + df_filtrado['Mes'].astype(str))\n",
        "plt.figure(figsize=(12,6))\n",
        "for estado in estados:\n",
        "    df_estado = df_filtrado[df_filtrado['Entidad'] == estado]\n",
        "    plt.plot(df_estado['Fecha'], df_estado['Homicidios_dolosos'], label=estado)\n",
        "\n",
        "plt.title('Homicidios dolosos por mes (Ene 2015 - Jul 2019)')\n",
        "plt.xlabel('Fecha')\n",
        "plt.ylabel('Número de homicidios dolosos')\n",
        "plt.legend()\n",
        "plt.grid(True)\n",
        "plt.show()"
      ]
    },
    {
      "cell_type": "markdown",
      "metadata": {
        "id": "nHu3g_tV3gQx"
      },
      "source": [
        "#### Ejercicio 2: Contetas las siguientes  preguntas:\n",
        "1. ¿Cuántos homicidios dolosos hubo en Colima en el 2018?\n",
        "2. ¿Cuantos robos de vehículo automotor ha habido en el 2019?\n",
        "3. Obten la suma de homicidos dolosos y feminidios en toda la República Mexicana en cada año.\n",
        "4. ¿En qué mes y en qué municipio ha ocurrido el mayor número de feminicidios?\n",
        "5. ¿En qué año y en qué estado ha ocurrido el mayor número de feminicidios?"
      ]
    },
    {
      "cell_type": "code",
      "execution_count": null,
      "metadata": {
        "id": "5hk92qxJ3gQy"
      },
      "outputs": [],
      "source": [
        "homicidios_colima_2018 = df[(df['Entidad']=='Colima') & (df['Año']==2018)]['Homicidios_dolosos'].sum()\n",
        "print(\"Homicidios dolosos en Colima 2018:\", homicidios_colima_2018)\n",
        "\n",
        "robos_2019 = df[df['Año']==2019]['Robos_vehículo'].sum()\n",
        "print(\"Robos de vehículo en 2019:\", robos_2019)\n",
        "\n",
        "df['Homicidios_y_Feminicidios'] = df['Homicidios_dolosos'] + df['Feminicidios']\n",
        "suma_anual = df.groupby('Año')['Homicidios_y_Feminicidios'].sum()\n",
        "print(\"\\nSuma anual de homicidios dolosos y feminicidios:\\n\", suma_anual)\n",
        "\n",
        "mayor_feminicidios = df.loc[df['Feminicidios'].idxmax()]\n",
        "print(\"\\nMes y municipio con más feminicidios:\")\n",
        "print(mayor_feminicidios[['Mes','Municipio','Feminicidios']])\n",
        "\n",
        "df_estado_anual = df.groupby(['Año','Entidad'])['Feminicidios'].sum().reset_index()\n",
        "max_fem = df_estado_anual.loc[df_estado_anual['Feminicidios'].idxmax()]\n",
        "print(\"\\nAño y estado con más feminicidios:\")\n",
        "print(max_fem)\n",
        "\n"
      ]
    },
    {
      "cell_type": "markdown",
      "metadata": {
        "id": "BO3yEEPB3gQy"
      },
      "source": [
        "#### Ejercicio 3: Haz una gráfica de pastel de tipos de delito. Deberás crear una gráfica para cada año. Utilzia la función subplots de matplotlib"
      ]
    },
    {
      "cell_type": "code",
      "execution_count": null,
      "metadata": {
        "id": "FcOxteWQ3gQy"
      },
      "outputs": [],
      "source": [
        "años = sorted(df['Año'].unique())\n",
        "\n",
        "fig, axes = plt.subplots(len(años), 1, figsize=(8, 4*len(años)))\n",
        "\n",
        "for i, año in enumerate(años):\n",
        "    df_año = df[df['Año'] == año]\n",
        "    # Sumar por tipo de delito\n",
        "    delitos_tipo = df_año.groupby('Tipo_delito')['Frecuencia'].sum()\n",
        "    axes[i].pie(delitos_tipo, labels=delitos_tipo.index, autopct='%1.1f%%')\n",
        "    axes[i].set_title(f'Tipos de delito en {año}')\n",
        "\n",
        "plt.tight_layout()\n",
        "plt.show()"
      ]
    },
    {
      "cell_type": "markdown",
      "metadata": {
        "id": "qUHgVASD3gQz"
      },
      "source": [
        "---\n",
        "#### Calcula la tasa por 100,000 habitantes\n",
        "##### Tasa por 100,000 habitantes\n",
        "Mostrar el total de delitos en una entidad no nos sirve de mucho. Es mucho más útil calcular la tasa de incidencia delictiva por cada 100,000 habitantes\n",
        "\n",
        "$$\n",
        "tasa = \\frac{delitos\\space totales}{población} \\times 100,000\n",
        "$$\n",
        "\n",
        "Esta tasa la podemos anualizar multiplicándola por un factor de 12\n",
        "$$\n",
        "tasa\\space anualizada = tasa \\times 12\n",
        "$$\n",
        "\n",
        "Población por entidad federativa según [la encuesta intercensal 2015](https://www.inegi.org.mx/programas/intercensal/2015/)\n",
        "\n",
        "No tienes que descargar nada. Ya están los datos en la carpeta data"
      ]
    },
    {
      "cell_type": "code",
      "execution_count": null,
      "metadata": {
        "id": "raqkI6t_3gQz"
      },
      "outputs": [],
      "source": [
        "pobs = pd.read_csv('data/poblacion_entidades_2015.csv', encoding='iso-8859-1', sep=\";\")\n",
        "pobs = pobs[['Cve_Entidad', 'Entidad', 'Poblacion']]\n",
        "pobs = pobs.rename(columns={'Cve_Entidad':'clave_entidad', 'Entidad':'entidad', 'Poblacion':'poblacion'})\n",
        "pobs.head()"
      ]
    },
    {
      "cell_type": "code",
      "execution_count": null,
      "metadata": {
        "id": "vYLxZasI3gQz"
      },
      "outputs": [],
      "source": [
        "df = df_delitos.merge(pobs, on='entidad', how='left')\n",
        "df['tasa'] = (df['Delitos_totales'] / df['poblacion']) * 100000\n",
        "df['tasa_anualizada'] = df['tasa'] * 12\n",
        "df.head()\n",
        "estados = ['Jalisco', 'CDMX', 'Chihuahua']\n",
        "plt.figure(figsize=(12,6))\n",
        "for estado in estados:\n",
        "    df_estado = df[df['entidad'] == estado]\n",
        "    fechas = pd.to_datetime(df_estado['Año'].astype(str) + '-' + df_estado['Mes'].astype(str))\n",
        "    plt.plot(fechas, df_estado['tasa_anualizada'], label=estado)\n",
        "\n",
        "plt.title('Tasa anualizada de delitos por 100,000 habitantes')\n",
        "plt.xlabel('Fecha')\n",
        "plt.ylabel('Tasa anualizada')\n",
        "plt.legend()\n",
        "plt.grid(True)\n",
        "plt.show()"
      ]
    },
    {
      "cell_type": "code",
      "execution_count": null,
      "metadata": {
        "id": "9JZWvDWc3gQz"
      },
      "outputs": [],
      "source": []
    }
  ],
  "metadata": {
    "kernelspec": {
      "display_name": "Python 3 (ipykernel)",
      "language": "python",
      "name": "python3"
    },
    "language_info": {
      "codemirror_mode": {
        "name": "ipython",
        "version": 3
      },
      "file_extension": ".py",
      "mimetype": "text/x-python",
      "name": "python",
      "nbconvert_exporter": "python",
      "pygments_lexer": "ipython3",
      "version": "3.12.3"
    },
    "colab": {
      "provenance": []
    }
  },
  "nbformat": 4,
  "nbformat_minor": 0
}